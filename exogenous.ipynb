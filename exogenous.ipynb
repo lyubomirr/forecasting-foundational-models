{
  "cells": [
    {
      "cell_type": "code",
      "execution_count": null,
      "metadata": {
        "id": "S86yBL2JtWfX"
      },
      "outputs": [],
      "source": [
        "!pip install numpy==1.26.4"
      ]
    },
    {
      "cell_type": "code",
      "execution_count": null,
      "metadata": {
        "id": "ouFWSLKxiBzK"
      },
      "outputs": [],
      "source": [
        "# need to restart notebook in order to get numpy 1.x.x after installing it ...\n",
        "import numpy as np\n",
        "if int(np.__version__[0]) > 1:\n",
        "  import os\n",
        "  os.kill(os.getpid(), 9)"
      ]
    },
    {
      "cell_type": "code",
      "execution_count": null,
      "metadata": {
        "id": "iLTvJMWNjoQj"
      },
      "outputs": [],
      "source": [
        "!pip install timesfm\n",
        "!pip install u8darts==0.34.0\n",
        "!pip install pytorch_lightning\n",
        "!pip install sktime"
      ]
    },
    {
      "cell_type": "code",
      "execution_count": null,
      "metadata": {
        "id": "lmErEa8zH6ym"
      },
      "outputs": [],
      "source": [
        "import pandas as pd\n",
        "from darts import TimeSeries\n",
        "import timesfm\n",
        "from darts.models import XGBModel\n",
        "import matplotlib.pyplot as plt"
      ]
    },
    {
      "cell_type": "code",
      "execution_count": null,
      "metadata": {
        "id": "sFU3PdB8SAIB"
      },
      "outputs": [],
      "source": [
        "def wmape(y_pred, y_true):\n",
        "    \"\"\"\n",
        "    Weighted Mean Absolute Percentage Error (WMAPE)\n",
        "\n",
        "    Args:\n",
        "        y_true (array-like): Actual values\n",
        "        y_pred (array-like): Forecasted values\n",
        "\n",
        "    Returns:\n",
        "        float: WMAPE value\n",
        "    \"\"\"\n",
        "    y_true = np.array(y_true)\n",
        "    y_pred = np.array(y_pred)\n",
        "    return np.sum(np.abs(y_true - y_pred)) / np.sum(np.abs(y_true))\n"
      ]
    },
    {
      "cell_type": "markdown",
      "metadata": {
        "id": "lEnblHAi7ELt"
      },
      "source": [
        "# Bike sharing dataset"
      ]
    },
    {
      "cell_type": "code",
      "execution_count": null,
      "metadata": {
        "colab": {
          "base_uri": "https://localhost:8080/",
          "height": 424
        },
        "id": "H1bl4l9qd1Xt",
        "outputId": "696eac1f-40aa-4bdb-8968-b573d46a875e"
      },
      "outputs": [],
      "source": [
        "df = pd.read_csv('https://raw.githubusercontent.com/lyubomirr/bike-sharing-dataset/refs/heads/main/day.csv')\n",
        "df"
      ]
    },
    {
      "cell_type": "code",
      "execution_count": null,
      "metadata": {
        "colab": {
          "base_uri": "https://localhost:8080/",
          "height": 429
        },
        "id": "GC8_4tyz9cuy",
        "outputId": "5a931c75-e985-47b8-d797-11549060056f"
      },
      "outputs": [],
      "source": [
        "correlation_matrix = df[['mnth','weekday', 'workingday', 'holiday', 'hum', 'windspeed', 'weathersit', 'temp', 'atemp', 'season', 'cnt']].corr()\n",
        "correlation_matrix['cnt']"
      ]
    },
    {
      "cell_type": "code",
      "execution_count": null,
      "metadata": {
        "id": "ZhW4HuWiyWPp"
      },
      "outputs": [],
      "source": [
        "HORIZON_LENGTH=64\n",
        "CONTEXT_LENGTH=512"
      ]
    },
    {
      "cell_type": "markdown",
      "metadata": {
        "id": "7cevAxlPX7Qa"
      },
      "source": [
        "## XGBoost\n"
      ]
    },
    {
      "cell_type": "code",
      "execution_count": null,
      "metadata": {
        "id": "GoQxpMt7GUDt"
      },
      "outputs": [],
      "source": [
        "def infer_on_xgboost(df, horizon_length, context_length=512, use_covs=True):\n",
        "  covariates = TimeSeries.from_dataframe(df[['holiday', 'weathersit', 'season', 'mnth', 'atemp', 'windspeed', 'hum']])\n",
        "  targets = TimeSeries.from_series(df['cnt'])\n",
        "  ctx = targets[-(context_length+horizon_length):-horizon_length]\n",
        "  act = targets[-horizon_length:]\n",
        "  model = XGBModel(lags=20, lags_future_covariates=[0] if use_covs else None)\n",
        "  model.fit(ctx, future_covariates=covariates if use_covs else None)\n",
        "  return model.predict(horizon_length), act, ctx"
      ]
    },
    {
      "cell_type": "code",
      "execution_count": null,
      "metadata": {
        "colab": {
          "base_uri": "https://localhost:8080/"
        },
        "id": "yVwtGtfJGne3",
        "outputId": "58fad746-7f28-498e-acea-f84fa6caa6d5"
      },
      "outputs": [],
      "source": [
        "pred, act, ctx = infer_on_xgboost(df, HORIZON_LENGTH, CONTEXT_LENGTH)\n",
        "pred_base, _, _ = infer_on_xgboost(df, HORIZON_LENGTH, CONTEXT_LENGTH, False)\n",
        "print(\"Base: \", wmape(pred_base.values(), act.values()))\n",
        "print(\"Covs: \", wmape(pred.values(), act.values()))"
      ]
    },
    {
      "cell_type": "code",
      "execution_count": null,
      "metadata": {
        "colab": {
          "base_uri": "https://localhost:8080/",
          "height": 561
        },
        "id": "8T5NmcLRKWQt",
        "outputId": "b2ba2b06-68ff-4b49-8af1-89e88bc2f9c8"
      },
      "outputs": [],
      "source": [
        "plt.figure(figsize=(20, 6))\n",
        "\n",
        "ctx.concatenate(act).plot(label='Цел')\n",
        "pred_base.plot(label='Базова прогноза', alpha=0.8)\n",
        "pred.plot(label='Прогноза с допълнителни променливи', alpha=0.8)\n",
        "\n",
        "plt.title('Прогнозиране на XGBoost с допълнителни променливи')\n",
        "plt.legend()\n",
        "plt.show()\n"
      ]
    },
    {
      "cell_type": "markdown",
      "metadata": {
        "id": "xVHWZq7sX_I2"
      },
      "source": [
        "## TimesFM\n"
      ]
    },
    {
      "cell_type": "code",
      "execution_count": null,
      "metadata": {
        "colab": {
          "base_uri": "https://localhost:8080/",
          "height": 252,
          "referenced_widgets": [
            "a7afd9f8d2be4901a0b17e8b81730ce0",
            "05e5571bf9aa4cd68a47b6b50efeb4b0",
            "dce76e3e9a42453b821138b41adff60f",
            "6db9d7d2aca1417c801bbdf6df767f78",
            "b0bdfa0eefe54bad9cc7c66b56ba3f33",
            "d9f4a0d0d7934a78bf18a4475882e673",
            "10aaefe84fc340a085be7a91a57c4207",
            "2d4231e8ce55435e878fbafb18d80aae",
            "74284464a7dc46b0abc274e6262bee68",
            "40abe437397c448784e97789daffbef6",
            "5fc02281a6c84281b85d0be3ac8e419b",
            "044988e6c1ad4a68bb45d313c8abd0d7",
            "6dd74a8729034401892b5cc40800afce",
            "6ad9cf4e5f3d47cda9a6e98c37574bf4",
            "cba59c509f0c4dfe96ccd72ba6921e51",
            "b95df890ff4b4f88bc7162bd7109dd84",
            "5a8547c7a5544be2a9dd7446e423ae8b",
            "95ebfc3b75d848a3a287d9ccb37541fd",
            "19e8fc64d500440d81e57b3f3ec7c695",
            "175ef7a5ae724c8b804749ce7625cbf4",
            "c8d986c8177f434c97e75707cd07d039",
            "ba0b48e6f48d4172871dcf90963cef37",
            "8e7f9cd88284424cabb7e04746b9a90e",
            "ae0c77a3dfd146f1bc056b426c0f9b7d",
            "181f587a0917405d87ea364138e92a73",
            "79c138d5316a43f7883cc15995f054f4",
            "530297b06b4344808d8be4b849bfca02",
            "6e818409293c4d23a9ed85edf8ce7585",
            "14b03dec45614aab89d8cc0ce0ed8b64",
            "f5616d5538994cbcadc2cb18c7229677",
            "5c6e45b3619e4265bafe1c5746e2ba13",
            "2fee184788dd49f1be10948116970811",
            "5911c50d512349beb8eef2b5df9a0801",
            "f34ccb4f84864e1e9e903caefe0be612",
            "439f54fc0c7b42e880b1fae61e52a484",
            "de4a2402418c4dbbbac16a43e1d8b68b",
            "a8e0e814740848bea93f62a9e633f981",
            "af9d1e7d31ae4f6fbda36f94fdbea513",
            "37efc22260c34fdfa16d963aff97effc",
            "edcffdd5a0be4c95bee8539867086c34",
            "bacc6c644a4845879c38c3d3e1892104",
            "62a0d82b2f0c408784cd9e7e8a5b2fd3",
            "00b2fe97ef02495a8a2c154aba2a0290",
            "35e08bab23644d59b41bd161be7a041f"
          ]
        },
        "id": "8BpShz8Fexao",
        "outputId": "f6e424ce-b21c-430a-8d4a-1421bcb62bd1"
      },
      "outputs": [],
      "source": [
        "tfm = timesfm.TimesFm(\n",
        "      hparams=timesfm.TimesFmHparams(\n",
        "          backend=\"gpu\",\n",
        "          per_core_batch_size=32,\n",
        "          horizon_len=HORIZON_LENGTH,\n",
        "      ),\n",
        "      checkpoint=timesfm.TimesFmCheckpoint(\n",
        "          huggingface_repo_id=\"google/timesfm-1.0-200m-pytorch\"),\n",
        "  )"
      ]
    },
    {
      "cell_type": "code",
      "execution_count": null,
      "metadata": {
        "id": "mNn5HJ09tZ-C"
      },
      "outputs": [],
      "source": [
        "targets = df['cnt'].to_numpy().reshape(1, -1)\n",
        "\n",
        "ctx = targets[:, -(CONTEXT_LENGTH + HORIZON_LENGTH):-HORIZON_LENGTH]\n",
        "act = targets [:, -HORIZON_LENGTH:]\n",
        "\n",
        "data = df.tail(CONTEXT_LENGTH + HORIZON_LENGTH)\n",
        "data = data.reset_index()"
      ]
    },
    {
      "cell_type": "code",
      "execution_count": null,
      "metadata": {
        "colab": {
          "base_uri": "https://localhost:8080/"
        },
        "id": "p8pqQPtiov_P",
        "outputId": "484e7c4b-7b8c-4ab0-ec87-37e8f7430c40"
      },
      "outputs": [],
      "source": [
        "raw_forecast, _ = tfm.forecast(ctx, freq=[0])\n",
        "xreg_timesfm_forecast, _ = tfm.forecast_with_covariates(\n",
        "      inputs=ctx,\n",
        "      dynamic_categorical_covariates={\n",
        "          \"holiday\": data['holiday'].to_numpy().reshape(1, -1),\n",
        "          \"weathersit\": data['weathersit'].to_numpy().reshape(1, -1),\n",
        "          \"season\": data['season'].to_numpy().reshape(1, -1),\n",
        "          \"mnth\": data['mnth'].to_numpy().reshape(1, -1),\n",
        "      },\n",
        "      dynamic_numerical_covariates={\n",
        "          \"atemp\":data['atemp'].to_numpy().reshape(1, -1),\n",
        "          \"windspeed\": data['windspeed'].to_numpy().reshape(1, -1),\n",
        "          \"hum\": data['hum'].to_numpy().reshape(1, -1),\n",
        "\n",
        "      },\n",
        "      freq=[0],\n",
        "      xreg_mode=\"xreg + timesfm\"\n",
        "  )\n",
        "timesfm_xreg_forecast, _ = tfm.forecast_with_covariates(\n",
        "      inputs=ctx,\n",
        "      dynamic_categorical_covariates={\n",
        "          \"holiday\": data['holiday'].to_numpy().reshape(1, -1),\n",
        "          \"weathersit\": data['weathersit'].to_numpy().reshape(1, -1),\n",
        "          \"season\": data['season'].to_numpy().reshape(1, -1),\n",
        "          \"mnth\": data['mnth'].to_numpy().reshape(1, -1),\n",
        "      },\n",
        "      dynamic_numerical_covariates={\n",
        "          \"atemp\":data['atemp'].to_numpy().reshape(1, -1),\n",
        "          \"windspeed\": data['windspeed'].to_numpy().reshape(1, -1),\n",
        "          \"hum\": data['hum'].to_numpy().reshape(1, -1),\n",
        "\n",
        "      },\n",
        "      freq=[0],\n",
        "      xreg_mode=\"timesfm + xreg\"\n",
        "  )\n",
        "\n",
        "print(wmape(raw_forecast[0].reshape(1, -1), act))\n",
        "print(wmape(xreg_timesfm_forecast[0].reshape(1, -1), act))\n",
        "print(wmape(timesfm_xreg_forecast[0].reshape(1, -1), act))"
      ]
    },
    {
      "cell_type": "code",
      "execution_count": null,
      "metadata": {
        "colab": {
          "base_uri": "https://localhost:8080/",
          "height": 542
        },
        "id": "K6V7B1M4yUad",
        "outputId": "d21185af-0cc0-4d2a-9ddc-04ecf0ebf00f"
      },
      "outputs": [],
      "source": [
        "plt.figure(figsize=(20, 6))\n",
        "plt.plot(targets[0][-(CONTEXT_LENGTH+HORIZON_LENGTH):], label='Цел')\n",
        "plt.plot(np.concatenate([np.full(CONTEXT_LENGTH, np.nan), raw_forecast[0]]), label='Базова прогноза', alpha=0.8)\n",
        "plt.plot(np.concatenate([np.full(CONTEXT_LENGTH, np.nan), xreg_timesfm_forecast[0]]), label='Регресия + TimesFM', alpha=0.8)\n",
        "plt.plot(np.concatenate([np.full(CONTEXT_LENGTH, np.nan), timesfm_xreg_forecast[0]]), label='TimesFM + Регресия', alpha=0.8)\n",
        "plt.title('Прогнозиране на TimesFM с допълнителни променливи')\n",
        "plt.legend()\n",
        "plt.grid(True)\n",
        "plt.show()"
      ]
    },
    {
      "cell_type": "code",
      "execution_count": null,
      "metadata": {
        "colab": {
          "base_uri": "https://localhost:8080/",
          "height": 542
        },
        "id": "C00zPKI4_M7k",
        "outputId": "acd82925-fda9-455a-c03c-baf82af211ca"
      },
      "outputs": [],
      "source": [
        "plt.figure(figsize=(20, 6))\n",
        "plt.plot(targets[0][-(2*HORIZON_LENGTH):], label='Цел')\n",
        "plt.plot(np.concatenate([np.full(HORIZON_LENGTH, np.nan), raw_forecast[0]]), label='Базова прогноза')\n",
        "plt.plot(np.concatenate([np.full(HORIZON_LENGTH, np.nan), xreg_timesfm_forecast[0]]), label='Регресия + TimesFM')\n",
        "plt.plot(np.concatenate([np.full(HORIZON_LENGTH, np.nan), timesfm_xreg_forecast[0]]), label='TimesFM + Регресия')\n",
        "plt.title('Прогнозиране на TimesFM с допълнителни променливи (увеличена)')\n",
        "plt.legend()\n",
        "plt.grid(True)\n",
        "plt.show()"
      ]
    },
    {
      "cell_type": "markdown",
      "metadata": {
        "id": "6wOM-_9O7Zrq"
      },
      "source": [
        "# TimesFM v2"
      ]
    },
    {
      "cell_type": "code",
      "execution_count": null,
      "metadata": {
        "id": "PTqL5DaK7hWw"
      },
      "outputs": [],
      "source": [
        "tfm2 = timesfm.TimesFm(\n",
        "        hparams=timesfm.TimesFmHparams(\n",
        "            backend=\"gpu\",\n",
        "            per_core_batch_size=32,\n",
        "            horizon_len=HORIZON_LENGTH,\n",
        "            num_layers=50,\n",
        "            use_positional_embedding=False,\n",
        "            context_len=2048,\n",
        "        ),\n",
        "        checkpoint=timesfm.TimesFmCheckpoint(\n",
        "            huggingface_repo_id=\"google/timesfm-2.0-500m-pytorch\"),\n",
        "  )"
      ]
    },
    {
      "cell_type": "code",
      "execution_count": null,
      "metadata": {
        "id": "m4WKG_D8P5Zp"
      },
      "outputs": [],
      "source": [
        "targets = df['cnt'].to_numpy().reshape(1, -1)\n",
        "\n",
        "ctx = targets[:, -(CONTEXT_LENGTH + HORIZON_LENGTH):-HORIZON_LENGTH]\n",
        "act = targets [:, -HORIZON_LENGTH:]\n",
        "\n",
        "data = df.tail(CONTEXT_LENGTH + HORIZON_LENGTH)\n",
        "data = data.reset_index()"
      ]
    },
    {
      "cell_type": "code",
      "execution_count": null,
      "metadata": {
        "colab": {
          "base_uri": "https://localhost:8080/"
        },
        "id": "MeAjLGU_P7n7",
        "outputId": "8b870a3b-cefc-4941-d935-5c497af68bc9"
      },
      "outputs": [],
      "source": [
        "raw_forecast2, _ = tfm2.forecast(ctx, freq=[0])\n",
        "xreg_timesfm_forecast2, _ = tfm2.forecast_with_covariates(\n",
        "      inputs=ctx,\n",
        "      dynamic_categorical_covariates={\n",
        "          \"holiday\": data['holiday'].to_numpy().reshape(1, -1),\n",
        "          \"weathersit\": data['weathersit'].to_numpy().reshape(1, -1),\n",
        "          \"season\": data['season'].to_numpy().reshape(1, -1),\n",
        "          \"mnth\": data['mnth'].to_numpy().reshape(1, -1),\n",
        "      },\n",
        "      dynamic_numerical_covariates={\n",
        "          \"atemp\":data['atemp'].to_numpy().reshape(1, -1),\n",
        "          \"windspeed\": data['windspeed'].to_numpy().reshape(1, -1),\n",
        "          \"hum\": data['hum'].to_numpy().reshape(1, -1),\n",
        "\n",
        "      },\n",
        "      freq=[0],\n",
        "      xreg_mode=\"xreg + timesfm\"\n",
        "  )\n",
        "timesfm_xreg_forecast2, _ = tfm2.forecast_with_covariates(\n",
        "      inputs=ctx,\n",
        "      dynamic_categorical_covariates={\n",
        "          \"holiday\": data['holiday'].to_numpy().reshape(1, -1),\n",
        "          \"weathersit\": data['weathersit'].to_numpy().reshape(1, -1),\n",
        "          \"season\": data['season'].to_numpy().reshape(1, -1),\n",
        "          \"mnth\": data['mnth'].to_numpy().reshape(1, -1),\n",
        "      },\n",
        "      dynamic_numerical_covariates={\n",
        "          \"atemp\":data['atemp'].to_numpy().reshape(1, -1),\n",
        "          \"windspeed\": data['windspeed'].to_numpy().reshape(1, -1),\n",
        "          \"hum\": data['hum'].to_numpy().reshape(1, -1),\n",
        "\n",
        "      },\n",
        "      freq=[0],\n",
        "      xreg_mode=\"timesfm + xreg\"\n",
        "  )\n",
        "\n",
        "print(wmape(raw_forecast2[0].reshape(1, -1), act))\n",
        "print(wmape(xreg_timesfm_forecast2[0].reshape(1, -1), act))\n",
        "print(wmape(timesfm_xreg_forecast2[0].reshape(1, -1), act))"
      ]
    },
    {
      "cell_type": "code",
      "execution_count": null,
      "metadata": {
        "colab": {
          "base_uri": "https://localhost:8080/",
          "height": 542
        },
        "id": "riSqhZcVQC-F",
        "outputId": "48903ead-b5b9-419b-a219-066050579c8c"
      },
      "outputs": [],
      "source": [
        "plt.figure(figsize=(20, 6))\n",
        "plt.plot(targets[0][-(CONTEXT_LENGTH+HORIZON_LENGTH):], label='Цел')\n",
        "plt.plot(np.concatenate([np.full(CONTEXT_LENGTH, np.nan), raw_forecast2[0]]), label='Базова прогноза', alpha=0.8)\n",
        "plt.plot(np.concatenate([np.full(CONTEXT_LENGTH, np.nan), xreg_timesfm_forecast2[0]]), label='Регресия + TimesFM v2', alpha=0.8)\n",
        "plt.plot(np.concatenate([np.full(CONTEXT_LENGTH, np.nan), timesfm_xreg_forecast2[0]]), label='TimesFM v2 + Регресия', alpha=0.8)\n",
        "plt.title('Прогнозиране на TimesFM v2 с допълнителни променливи')\n",
        "plt.legend()\n",
        "plt.grid(True)\n",
        "plt.show()"
      ]
    },
    {
      "cell_type": "code",
      "execution_count": null,
      "metadata": {
        "colab": {
          "base_uri": "https://localhost:8080/",
          "height": 542
        },
        "id": "ZTlPFAu8QFNy",
        "outputId": "ff9b3c98-5068-43ac-f814-b94890bf8aa4"
      },
      "outputs": [],
      "source": [
        "plt.figure(figsize=(20, 6))\n",
        "plt.plot(targets[0][-(2*HORIZON_LENGTH):], label='Цел')\n",
        "plt.plot(np.concatenate([np.full(HORIZON_LENGTH, np.nan), raw_forecast2[0]]), label='Базова прогноза')\n",
        "plt.plot(np.concatenate([np.full(HORIZON_LENGTH, np.nan), xreg_timesfm_forecast2[0]]), label='Регресия + TimesFM')\n",
        "plt.plot(np.concatenate([np.full(HORIZON_LENGTH, np.nan), timesfm_xreg_forecast2[0]]), label='TimesFM + Регресия')\n",
        "plt.title('Прогнозиране на TimesFM v2 с допълнителни променливи (увеличена)')\n",
        "plt.legend()\n",
        "plt.grid(True)\n",
        "plt.show()"
      ]
    },
    {
      "cell_type": "markdown",
      "metadata": {
        "id": "s3k7qC6PYByY"
      },
      "source": [
        "## AutoARIMA"
      ]
    },
    {
      "cell_type": "code",
      "execution_count": null,
      "metadata": {
        "id": "Gfb74MOFM_71"
      },
      "outputs": [],
      "source": [
        "from sktime.forecasting.statsforecast import StatsForecastAutoARIMA"
      ]
    },
    {
      "cell_type": "code",
      "execution_count": null,
      "metadata": {
        "id": "ZUaZGiBZ0rEV"
      },
      "outputs": [],
      "source": [
        "targets = df['cnt'].to_numpy()\n",
        "\n",
        "ctx = targets[-(CONTEXT_LENGTH+HORIZON_LENGTH):-HORIZON_LENGTH]\n",
        "act = targets [-HORIZON_LENGTH:]\n",
        "\n",
        "data = df.tail(CONTEXT_LENGTH + HORIZON_LENGTH)\n",
        "data = data.reset_index()"
      ]
    },
    {
      "cell_type": "code",
      "execution_count": null,
      "metadata": {
        "id": "L2lf3zLsyumZ"
      },
      "outputs": [],
      "source": [
        "fit_covs = data[['holiday', 'weathersit', 'season', 'mnth', 'atemp', 'windspeed', 'hum']].to_numpy(dtype=float)[:-HORIZON_LENGTH, :]\n",
        "pred_covs = data[['holiday', 'weathersit', 'season', 'mnth', 'atemp', 'windspeed', 'hum']].to_numpy(dtype=float)[-HORIZON_LENGTH:, :]"
      ]
    },
    {
      "cell_type": "code",
      "execution_count": null,
      "metadata": {
        "id": "gsgrDueFXqKa"
      },
      "outputs": [],
      "source": [
        "arima = StatsForecastAutoARIMA()\n",
        "\n",
        "arima.fit(ctx.reshape(-1, 1))\n",
        "arima_base = arima.predict(fh=np.arange(1, HORIZON_LENGTH+1))\n",
        "\n",
        "arima.reset()\n",
        "\n",
        "arima.fit(ctx.reshape(-1, 1), X=fit_covs)\n",
        "arima_pred = arima.predict(fh=np.arange(1, HORIZON_LENGTH+1), X=pred_covs)"
      ]
    },
    {
      "cell_type": "code",
      "execution_count": null,
      "metadata": {
        "colab": {
          "base_uri": "https://localhost:8080/"
        },
        "id": "Fn0G-W5XaQ5H",
        "outputId": "40a8fdc3-ba80-48c4-c9f1-284ae4bc6a64"
      },
      "outputs": [],
      "source": [
        "print(\"Base: \", wmape(arima_base, act))\n",
        "print(\"Cov: \", wmape(arima_pred, act))"
      ]
    },
    {
      "cell_type": "code",
      "execution_count": null,
      "metadata": {
        "colab": {
          "base_uri": "https://localhost:8080/",
          "height": 542
        },
        "id": "YmMWxmEmZvSY",
        "outputId": "c8d69868-ea9b-4d33-fec5-df5cfbe4c3e8"
      },
      "outputs": [],
      "source": [
        "plt.figure(figsize=(20, 6))\n",
        "plt.plot(targets[-(CONTEXT_LENGTH+HORIZON_LENGTH):], label='Цел')\n",
        "plt.plot(np.concatenate([np.full(512, np.nan), arima_base.reshape(-1)]), label='Базова прогноза', alpha=0.8)\n",
        "plt.plot(np.concatenate([np.full(512, np.nan), arima_pred.reshape(-1)]), label='Прогноза с допълнителни променливи', alpha=0.8)\n",
        "plt.title('Прогнозиране на ARIMA с допълнителни променливи')\n",
        "plt.legend()\n",
        "plt.grid(True)\n",
        "plt.show()\n"
      ]
    }
  ],
  "metadata": {
    "accelerator": "GPU",
    "colab": {
      "gpuType": "T4",
      "provenance": []
    },
    "kernelspec": {
      "display_name": "Python 3",
      "name": "python3"
    },
    "language_info": {
      "name": "python"
    },
    "widgets": {
      "application/vnd.jupyter.widget-state+json": {
        "00b2fe97ef02495a8a2c154aba2a0290": {
          "model_module": "@jupyter-widgets/base",
          "model_module_version": "1.2.0",
          "model_name": "LayoutModel",
          "state": {
            "_model_module": "@jupyter-widgets/base",
            "_model_module_version": "1.2.0",
            "_model_name": "LayoutModel",
            "_view_count": null,
            "_view_module": "@jupyter-widgets/base",
            "_view_module_version": "1.2.0",
            "_view_name": "LayoutView",
            "align_content": null,
            "align_items": null,
            "align_self": null,
            "border": null,
            "bottom": null,
            "display": null,
            "flex": null,
            "flex_flow": null,
            "grid_area": null,
            "grid_auto_columns": null,
            "grid_auto_flow": null,
            "grid_auto_rows": null,
            "grid_column": null,
            "grid_gap": null,
            "grid_row": null,
            "grid_template_areas": null,
            "grid_template_columns": null,
            "grid_template_rows": null,
            "height": null,
            "justify_content": null,
            "justify_items": null,
            "left": null,
            "margin": null,
            "max_height": null,
            "max_width": null,
            "min_height": null,
            "min_width": null,
            "object_fit": null,
            "object_position": null,
            "order": null,
            "overflow": null,
            "overflow_x": null,
            "overflow_y": null,
            "padding": null,
            "right": null,
            "top": null,
            "visibility": null,
            "width": null
          }
        },
        "044988e6c1ad4a68bb45d313c8abd0d7": {
          "model_module": "@jupyter-widgets/controls",
          "model_module_version": "1.5.0",
          "model_name": "HBoxModel",
          "state": {
            "_dom_classes": [],
            "_model_module": "@jupyter-widgets/controls",
            "_model_module_version": "1.5.0",
            "_model_name": "HBoxModel",
            "_view_count": null,
            "_view_module": "@jupyter-widgets/controls",
            "_view_module_version": "1.5.0",
            "_view_name": "HBoxView",
            "box_style": "",
            "children": [
              "IPY_MODEL_6dd74a8729034401892b5cc40800afce",
              "IPY_MODEL_6ad9cf4e5f3d47cda9a6e98c37574bf4",
              "IPY_MODEL_cba59c509f0c4dfe96ccd72ba6921e51"
            ],
            "layout": "IPY_MODEL_b95df890ff4b4f88bc7162bd7109dd84"
          }
        },
        "05e5571bf9aa4cd68a47b6b50efeb4b0": {
          "model_module": "@jupyter-widgets/controls",
          "model_module_version": "1.5.0",
          "model_name": "HTMLModel",
          "state": {
            "_dom_classes": [],
            "_model_module": "@jupyter-widgets/controls",
            "_model_module_version": "1.5.0",
            "_model_name": "HTMLModel",
            "_view_count": null,
            "_view_module": "@jupyter-widgets/controls",
            "_view_module_version": "1.5.0",
            "_view_name": "HTMLView",
            "description": "",
            "description_tooltip": null,
            "layout": "IPY_MODEL_d9f4a0d0d7934a78bf18a4475882e673",
            "placeholder": "​",
            "style": "IPY_MODEL_10aaefe84fc340a085be7a91a57c4207",
            "value": "Fetching 3 files: 100%"
          }
        },
        "10aaefe84fc340a085be7a91a57c4207": {
          "model_module": "@jupyter-widgets/controls",
          "model_module_version": "1.5.0",
          "model_name": "DescriptionStyleModel",
          "state": {
            "_model_module": "@jupyter-widgets/controls",
            "_model_module_version": "1.5.0",
            "_model_name": "DescriptionStyleModel",
            "_view_count": null,
            "_view_module": "@jupyter-widgets/base",
            "_view_module_version": "1.2.0",
            "_view_name": "StyleView",
            "description_width": ""
          }
        },
        "14b03dec45614aab89d8cc0ce0ed8b64": {
          "model_module": "@jupyter-widgets/controls",
          "model_module_version": "1.5.0",
          "model_name": "DescriptionStyleModel",
          "state": {
            "_model_module": "@jupyter-widgets/controls",
            "_model_module_version": "1.5.0",
            "_model_name": "DescriptionStyleModel",
            "_view_count": null,
            "_view_module": "@jupyter-widgets/base",
            "_view_module_version": "1.2.0",
            "_view_name": "StyleView",
            "description_width": ""
          }
        },
        "175ef7a5ae724c8b804749ce7625cbf4": {
          "model_module": "@jupyter-widgets/controls",
          "model_module_version": "1.5.0",
          "model_name": "ProgressStyleModel",
          "state": {
            "_model_module": "@jupyter-widgets/controls",
            "_model_module_version": "1.5.0",
            "_model_name": "ProgressStyleModel",
            "_view_count": null,
            "_view_module": "@jupyter-widgets/base",
            "_view_module_version": "1.2.0",
            "_view_name": "StyleView",
            "bar_color": null,
            "description_width": ""
          }
        },
        "181f587a0917405d87ea364138e92a73": {
          "model_module": "@jupyter-widgets/controls",
          "model_module_version": "1.5.0",
          "model_name": "FloatProgressModel",
          "state": {
            "_dom_classes": [],
            "_model_module": "@jupyter-widgets/controls",
            "_model_module_version": "1.5.0",
            "_model_name": "FloatProgressModel",
            "_view_count": null,
            "_view_module": "@jupyter-widgets/controls",
            "_view_module_version": "1.5.0",
            "_view_name": "ProgressView",
            "bar_style": "success",
            "description": "",
            "description_tooltip": null,
            "layout": "IPY_MODEL_f5616d5538994cbcadc2cb18c7229677",
            "max": 1,
            "min": 0,
            "orientation": "horizontal",
            "style": "IPY_MODEL_5c6e45b3619e4265bafe1c5746e2ba13",
            "value": 1
          }
        },
        "19e8fc64d500440d81e57b3f3ec7c695": {
          "model_module": "@jupyter-widgets/base",
          "model_module_version": "1.2.0",
          "model_name": "LayoutModel",
          "state": {
            "_model_module": "@jupyter-widgets/base",
            "_model_module_version": "1.2.0",
            "_model_name": "LayoutModel",
            "_view_count": null,
            "_view_module": "@jupyter-widgets/base",
            "_view_module_version": "1.2.0",
            "_view_name": "LayoutView",
            "align_content": null,
            "align_items": null,
            "align_self": null,
            "border": null,
            "bottom": null,
            "display": null,
            "flex": null,
            "flex_flow": null,
            "grid_area": null,
            "grid_auto_columns": null,
            "grid_auto_flow": null,
            "grid_auto_rows": null,
            "grid_column": null,
            "grid_gap": null,
            "grid_row": null,
            "grid_template_areas": null,
            "grid_template_columns": null,
            "grid_template_rows": null,
            "height": null,
            "justify_content": null,
            "justify_items": null,
            "left": null,
            "margin": null,
            "max_height": null,
            "max_width": null,
            "min_height": null,
            "min_width": null,
            "object_fit": null,
            "object_position": null,
            "order": null,
            "overflow": null,
            "overflow_x": null,
            "overflow_y": null,
            "padding": null,
            "right": null,
            "top": null,
            "visibility": null,
            "width": "20px"
          }
        },
        "2d4231e8ce55435e878fbafb18d80aae": {
          "model_module": "@jupyter-widgets/base",
          "model_module_version": "1.2.0",
          "model_name": "LayoutModel",
          "state": {
            "_model_module": "@jupyter-widgets/base",
            "_model_module_version": "1.2.0",
            "_model_name": "LayoutModel",
            "_view_count": null,
            "_view_module": "@jupyter-widgets/base",
            "_view_module_version": "1.2.0",
            "_view_name": "LayoutView",
            "align_content": null,
            "align_items": null,
            "align_self": null,
            "border": null,
            "bottom": null,
            "display": null,
            "flex": null,
            "flex_flow": null,
            "grid_area": null,
            "grid_auto_columns": null,
            "grid_auto_flow": null,
            "grid_auto_rows": null,
            "grid_column": null,
            "grid_gap": null,
            "grid_row": null,
            "grid_template_areas": null,
            "grid_template_columns": null,
            "grid_template_rows": null,
            "height": null,
            "justify_content": null,
            "justify_items": null,
            "left": null,
            "margin": null,
            "max_height": null,
            "max_width": null,
            "min_height": null,
            "min_width": null,
            "object_fit": null,
            "object_position": null,
            "order": null,
            "overflow": null,
            "overflow_x": null,
            "overflow_y": null,
            "padding": null,
            "right": null,
            "top": null,
            "visibility": null,
            "width": null
          }
        },
        "2fee184788dd49f1be10948116970811": {
          "model_module": "@jupyter-widgets/base",
          "model_module_version": "1.2.0",
          "model_name": "LayoutModel",
          "state": {
            "_model_module": "@jupyter-widgets/base",
            "_model_module_version": "1.2.0",
            "_model_name": "LayoutModel",
            "_view_count": null,
            "_view_module": "@jupyter-widgets/base",
            "_view_module_version": "1.2.0",
            "_view_name": "LayoutView",
            "align_content": null,
            "align_items": null,
            "align_self": null,
            "border": null,
            "bottom": null,
            "display": null,
            "flex": null,
            "flex_flow": null,
            "grid_area": null,
            "grid_auto_columns": null,
            "grid_auto_flow": null,
            "grid_auto_rows": null,
            "grid_column": null,
            "grid_gap": null,
            "grid_row": null,
            "grid_template_areas": null,
            "grid_template_columns": null,
            "grid_template_rows": null,
            "height": null,
            "justify_content": null,
            "justify_items": null,
            "left": null,
            "margin": null,
            "max_height": null,
            "max_width": null,
            "min_height": null,
            "min_width": null,
            "object_fit": null,
            "object_position": null,
            "order": null,
            "overflow": null,
            "overflow_x": null,
            "overflow_y": null,
            "padding": null,
            "right": null,
            "top": null,
            "visibility": null,
            "width": null
          }
        },
        "35e08bab23644d59b41bd161be7a041f": {
          "model_module": "@jupyter-widgets/controls",
          "model_module_version": "1.5.0",
          "model_name": "DescriptionStyleModel",
          "state": {
            "_model_module": "@jupyter-widgets/controls",
            "_model_module_version": "1.5.0",
            "_model_name": "DescriptionStyleModel",
            "_view_count": null,
            "_view_module": "@jupyter-widgets/base",
            "_view_module_version": "1.2.0",
            "_view_name": "StyleView",
            "description_width": ""
          }
        },
        "37efc22260c34fdfa16d963aff97effc": {
          "model_module": "@jupyter-widgets/base",
          "model_module_version": "1.2.0",
          "model_name": "LayoutModel",
          "state": {
            "_model_module": "@jupyter-widgets/base",
            "_model_module_version": "1.2.0",
            "_model_name": "LayoutModel",
            "_view_count": null,
            "_view_module": "@jupyter-widgets/base",
            "_view_module_version": "1.2.0",
            "_view_name": "LayoutView",
            "align_content": null,
            "align_items": null,
            "align_self": null,
            "border": null,
            "bottom": null,
            "display": null,
            "flex": null,
            "flex_flow": null,
            "grid_area": null,
            "grid_auto_columns": null,
            "grid_auto_flow": null,
            "grid_auto_rows": null,
            "grid_column": null,
            "grid_gap": null,
            "grid_row": null,
            "grid_template_areas": null,
            "grid_template_columns": null,
            "grid_template_rows": null,
            "height": null,
            "justify_content": null,
            "justify_items": null,
            "left": null,
            "margin": null,
            "max_height": null,
            "max_width": null,
            "min_height": null,
            "min_width": null,
            "object_fit": null,
            "object_position": null,
            "order": null,
            "overflow": null,
            "overflow_x": null,
            "overflow_y": null,
            "padding": null,
            "right": null,
            "top": null,
            "visibility": null,
            "width": null
          }
        },
        "40abe437397c448784e97789daffbef6": {
          "model_module": "@jupyter-widgets/base",
          "model_module_version": "1.2.0",
          "model_name": "LayoutModel",
          "state": {
            "_model_module": "@jupyter-widgets/base",
            "_model_module_version": "1.2.0",
            "_model_name": "LayoutModel",
            "_view_count": null,
            "_view_module": "@jupyter-widgets/base",
            "_view_module_version": "1.2.0",
            "_view_name": "LayoutView",
            "align_content": null,
            "align_items": null,
            "align_self": null,
            "border": null,
            "bottom": null,
            "display": null,
            "flex": null,
            "flex_flow": null,
            "grid_area": null,
            "grid_auto_columns": null,
            "grid_auto_flow": null,
            "grid_auto_rows": null,
            "grid_column": null,
            "grid_gap": null,
            "grid_row": null,
            "grid_template_areas": null,
            "grid_template_columns": null,
            "grid_template_rows": null,
            "height": null,
            "justify_content": null,
            "justify_items": null,
            "left": null,
            "margin": null,
            "max_height": null,
            "max_width": null,
            "min_height": null,
            "min_width": null,
            "object_fit": null,
            "object_position": null,
            "order": null,
            "overflow": null,
            "overflow_x": null,
            "overflow_y": null,
            "padding": null,
            "right": null,
            "top": null,
            "visibility": null,
            "width": null
          }
        },
        "439f54fc0c7b42e880b1fae61e52a484": {
          "model_module": "@jupyter-widgets/controls",
          "model_module_version": "1.5.0",
          "model_name": "HTMLModel",
          "state": {
            "_dom_classes": [],
            "_model_module": "@jupyter-widgets/controls",
            "_model_module_version": "1.5.0",
            "_model_name": "HTMLModel",
            "_view_count": null,
            "_view_module": "@jupyter-widgets/controls",
            "_view_module_version": "1.5.0",
            "_view_name": "HTMLView",
            "description": "",
            "description_tooltip": null,
            "layout": "IPY_MODEL_37efc22260c34fdfa16d963aff97effc",
            "placeholder": "​",
            "style": "IPY_MODEL_edcffdd5a0be4c95bee8539867086c34",
            "value": "torch_model.ckpt: 100%"
          }
        },
        "530297b06b4344808d8be4b849bfca02": {
          "model_module": "@jupyter-widgets/base",
          "model_module_version": "1.2.0",
          "model_name": "LayoutModel",
          "state": {
            "_model_module": "@jupyter-widgets/base",
            "_model_module_version": "1.2.0",
            "_model_name": "LayoutModel",
            "_view_count": null,
            "_view_module": "@jupyter-widgets/base",
            "_view_module_version": "1.2.0",
            "_view_name": "LayoutView",
            "align_content": null,
            "align_items": null,
            "align_self": null,
            "border": null,
            "bottom": null,
            "display": null,
            "flex": null,
            "flex_flow": null,
            "grid_area": null,
            "grid_auto_columns": null,
            "grid_auto_flow": null,
            "grid_auto_rows": null,
            "grid_column": null,
            "grid_gap": null,
            "grid_row": null,
            "grid_template_areas": null,
            "grid_template_columns": null,
            "grid_template_rows": null,
            "height": null,
            "justify_content": null,
            "justify_items": null,
            "left": null,
            "margin": null,
            "max_height": null,
            "max_width": null,
            "min_height": null,
            "min_width": null,
            "object_fit": null,
            "object_position": null,
            "order": null,
            "overflow": null,
            "overflow_x": null,
            "overflow_y": null,
            "padding": null,
            "right": null,
            "top": null,
            "visibility": null,
            "width": null
          }
        },
        "5911c50d512349beb8eef2b5df9a0801": {
          "model_module": "@jupyter-widgets/controls",
          "model_module_version": "1.5.0",
          "model_name": "DescriptionStyleModel",
          "state": {
            "_model_module": "@jupyter-widgets/controls",
            "_model_module_version": "1.5.0",
            "_model_name": "DescriptionStyleModel",
            "_view_count": null,
            "_view_module": "@jupyter-widgets/base",
            "_view_module_version": "1.2.0",
            "_view_name": "StyleView",
            "description_width": ""
          }
        },
        "5a8547c7a5544be2a9dd7446e423ae8b": {
          "model_module": "@jupyter-widgets/base",
          "model_module_version": "1.2.0",
          "model_name": "LayoutModel",
          "state": {
            "_model_module": "@jupyter-widgets/base",
            "_model_module_version": "1.2.0",
            "_model_name": "LayoutModel",
            "_view_count": null,
            "_view_module": "@jupyter-widgets/base",
            "_view_module_version": "1.2.0",
            "_view_name": "LayoutView",
            "align_content": null,
            "align_items": null,
            "align_self": null,
            "border": null,
            "bottom": null,
            "display": null,
            "flex": null,
            "flex_flow": null,
            "grid_area": null,
            "grid_auto_columns": null,
            "grid_auto_flow": null,
            "grid_auto_rows": null,
            "grid_column": null,
            "grid_gap": null,
            "grid_row": null,
            "grid_template_areas": null,
            "grid_template_columns": null,
            "grid_template_rows": null,
            "height": null,
            "justify_content": null,
            "justify_items": null,
            "left": null,
            "margin": null,
            "max_height": null,
            "max_width": null,
            "min_height": null,
            "min_width": null,
            "object_fit": null,
            "object_position": null,
            "order": null,
            "overflow": null,
            "overflow_x": null,
            "overflow_y": null,
            "padding": null,
            "right": null,
            "top": null,
            "visibility": null,
            "width": null
          }
        },
        "5c6e45b3619e4265bafe1c5746e2ba13": {
          "model_module": "@jupyter-widgets/controls",
          "model_module_version": "1.5.0",
          "model_name": "ProgressStyleModel",
          "state": {
            "_model_module": "@jupyter-widgets/controls",
            "_model_module_version": "1.5.0",
            "_model_name": "ProgressStyleModel",
            "_view_count": null,
            "_view_module": "@jupyter-widgets/base",
            "_view_module_version": "1.2.0",
            "_view_name": "StyleView",
            "bar_color": null,
            "description_width": ""
          }
        },
        "5fc02281a6c84281b85d0be3ac8e419b": {
          "model_module": "@jupyter-widgets/controls",
          "model_module_version": "1.5.0",
          "model_name": "DescriptionStyleModel",
          "state": {
            "_model_module": "@jupyter-widgets/controls",
            "_model_module_version": "1.5.0",
            "_model_name": "DescriptionStyleModel",
            "_view_count": null,
            "_view_module": "@jupyter-widgets/base",
            "_view_module_version": "1.2.0",
            "_view_name": "StyleView",
            "description_width": ""
          }
        },
        "62a0d82b2f0c408784cd9e7e8a5b2fd3": {
          "model_module": "@jupyter-widgets/controls",
          "model_module_version": "1.5.0",
          "model_name": "ProgressStyleModel",
          "state": {
            "_model_module": "@jupyter-widgets/controls",
            "_model_module_version": "1.5.0",
            "_model_name": "ProgressStyleModel",
            "_view_count": null,
            "_view_module": "@jupyter-widgets/base",
            "_view_module_version": "1.2.0",
            "_view_name": "StyleView",
            "bar_color": null,
            "description_width": ""
          }
        },
        "6ad9cf4e5f3d47cda9a6e98c37574bf4": {
          "model_module": "@jupyter-widgets/controls",
          "model_module_version": "1.5.0",
          "model_name": "FloatProgressModel",
          "state": {
            "_dom_classes": [],
            "_model_module": "@jupyter-widgets/controls",
            "_model_module_version": "1.5.0",
            "_model_name": "FloatProgressModel",
            "_view_count": null,
            "_view_module": "@jupyter-widgets/controls",
            "_view_module_version": "1.5.0",
            "_view_name": "ProgressView",
            "bar_style": "success",
            "description": "",
            "description_tooltip": null,
            "layout": "IPY_MODEL_19e8fc64d500440d81e57b3f3ec7c695",
            "max": 1,
            "min": 0,
            "orientation": "horizontal",
            "style": "IPY_MODEL_175ef7a5ae724c8b804749ce7625cbf4",
            "value": 1
          }
        },
        "6db9d7d2aca1417c801bbdf6df767f78": {
          "model_module": "@jupyter-widgets/controls",
          "model_module_version": "1.5.0",
          "model_name": "HTMLModel",
          "state": {
            "_dom_classes": [],
            "_model_module": "@jupyter-widgets/controls",
            "_model_module_version": "1.5.0",
            "_model_name": "HTMLModel",
            "_view_count": null,
            "_view_module": "@jupyter-widgets/controls",
            "_view_module_version": "1.5.0",
            "_view_name": "HTMLView",
            "description": "",
            "description_tooltip": null,
            "layout": "IPY_MODEL_40abe437397c448784e97789daffbef6",
            "placeholder": "​",
            "style": "IPY_MODEL_5fc02281a6c84281b85d0be3ac8e419b",
            "value": " 3/3 [00:06&lt;00:00,  2.35s/it]"
          }
        },
        "6dd74a8729034401892b5cc40800afce": {
          "model_module": "@jupyter-widgets/controls",
          "model_module_version": "1.5.0",
          "model_name": "HTMLModel",
          "state": {
            "_dom_classes": [],
            "_model_module": "@jupyter-widgets/controls",
            "_model_module_version": "1.5.0",
            "_model_name": "HTMLModel",
            "_view_count": null,
            "_view_module": "@jupyter-widgets/controls",
            "_view_module_version": "1.5.0",
            "_view_name": "HTMLView",
            "description": "",
            "description_tooltip": null,
            "layout": "IPY_MODEL_5a8547c7a5544be2a9dd7446e423ae8b",
            "placeholder": "​",
            "style": "IPY_MODEL_95ebfc3b75d848a3a287d9ccb37541fd",
            "value": ".gitattributes: "
          }
        },
        "6e818409293c4d23a9ed85edf8ce7585": {
          "model_module": "@jupyter-widgets/base",
          "model_module_version": "1.2.0",
          "model_name": "LayoutModel",
          "state": {
            "_model_module": "@jupyter-widgets/base",
            "_model_module_version": "1.2.0",
            "_model_name": "LayoutModel",
            "_view_count": null,
            "_view_module": "@jupyter-widgets/base",
            "_view_module_version": "1.2.0",
            "_view_name": "LayoutView",
            "align_content": null,
            "align_items": null,
            "align_self": null,
            "border": null,
            "bottom": null,
            "display": null,
            "flex": null,
            "flex_flow": null,
            "grid_area": null,
            "grid_auto_columns": null,
            "grid_auto_flow": null,
            "grid_auto_rows": null,
            "grid_column": null,
            "grid_gap": null,
            "grid_row": null,
            "grid_template_areas": null,
            "grid_template_columns": null,
            "grid_template_rows": null,
            "height": null,
            "justify_content": null,
            "justify_items": null,
            "left": null,
            "margin": null,
            "max_height": null,
            "max_width": null,
            "min_height": null,
            "min_width": null,
            "object_fit": null,
            "object_position": null,
            "order": null,
            "overflow": null,
            "overflow_x": null,
            "overflow_y": null,
            "padding": null,
            "right": null,
            "top": null,
            "visibility": null,
            "width": null
          }
        },
        "74284464a7dc46b0abc274e6262bee68": {
          "model_module": "@jupyter-widgets/controls",
          "model_module_version": "1.5.0",
          "model_name": "ProgressStyleModel",
          "state": {
            "_model_module": "@jupyter-widgets/controls",
            "_model_module_version": "1.5.0",
            "_model_name": "ProgressStyleModel",
            "_view_count": null,
            "_view_module": "@jupyter-widgets/base",
            "_view_module_version": "1.2.0",
            "_view_name": "StyleView",
            "bar_color": null,
            "description_width": ""
          }
        },
        "79c138d5316a43f7883cc15995f054f4": {
          "model_module": "@jupyter-widgets/controls",
          "model_module_version": "1.5.0",
          "model_name": "HTMLModel",
          "state": {
            "_dom_classes": [],
            "_model_module": "@jupyter-widgets/controls",
            "_model_module_version": "1.5.0",
            "_model_name": "HTMLModel",
            "_view_count": null,
            "_view_module": "@jupyter-widgets/controls",
            "_view_module_version": "1.5.0",
            "_view_name": "HTMLView",
            "description": "",
            "description_tooltip": null,
            "layout": "IPY_MODEL_2fee184788dd49f1be10948116970811",
            "placeholder": "​",
            "style": "IPY_MODEL_5911c50d512349beb8eef2b5df9a0801",
            "value": " 5.58k/? [00:00&lt;00:00, 65.9kB/s]"
          }
        },
        "8e7f9cd88284424cabb7e04746b9a90e": {
          "model_module": "@jupyter-widgets/controls",
          "model_module_version": "1.5.0",
          "model_name": "HBoxModel",
          "state": {
            "_dom_classes": [],
            "_model_module": "@jupyter-widgets/controls",
            "_model_module_version": "1.5.0",
            "_model_name": "HBoxModel",
            "_view_count": null,
            "_view_module": "@jupyter-widgets/controls",
            "_view_module_version": "1.5.0",
            "_view_name": "HBoxView",
            "box_style": "",
            "children": [
              "IPY_MODEL_ae0c77a3dfd146f1bc056b426c0f9b7d",
              "IPY_MODEL_181f587a0917405d87ea364138e92a73",
              "IPY_MODEL_79c138d5316a43f7883cc15995f054f4"
            ],
            "layout": "IPY_MODEL_530297b06b4344808d8be4b849bfca02"
          }
        },
        "95ebfc3b75d848a3a287d9ccb37541fd": {
          "model_module": "@jupyter-widgets/controls",
          "model_module_version": "1.5.0",
          "model_name": "DescriptionStyleModel",
          "state": {
            "_model_module": "@jupyter-widgets/controls",
            "_model_module_version": "1.5.0",
            "_model_name": "DescriptionStyleModel",
            "_view_count": null,
            "_view_module": "@jupyter-widgets/base",
            "_view_module_version": "1.2.0",
            "_view_name": "StyleView",
            "description_width": ""
          }
        },
        "a7afd9f8d2be4901a0b17e8b81730ce0": {
          "model_module": "@jupyter-widgets/controls",
          "model_module_version": "1.5.0",
          "model_name": "HBoxModel",
          "state": {
            "_dom_classes": [],
            "_model_module": "@jupyter-widgets/controls",
            "_model_module_version": "1.5.0",
            "_model_name": "HBoxModel",
            "_view_count": null,
            "_view_module": "@jupyter-widgets/controls",
            "_view_module_version": "1.5.0",
            "_view_name": "HBoxView",
            "box_style": "",
            "children": [
              "IPY_MODEL_05e5571bf9aa4cd68a47b6b50efeb4b0",
              "IPY_MODEL_dce76e3e9a42453b821138b41adff60f",
              "IPY_MODEL_6db9d7d2aca1417c801bbdf6df767f78"
            ],
            "layout": "IPY_MODEL_b0bdfa0eefe54bad9cc7c66b56ba3f33"
          }
        },
        "a8e0e814740848bea93f62a9e633f981": {
          "model_module": "@jupyter-widgets/controls",
          "model_module_version": "1.5.0",
          "model_name": "HTMLModel",
          "state": {
            "_dom_classes": [],
            "_model_module": "@jupyter-widgets/controls",
            "_model_module_version": "1.5.0",
            "_model_name": "HTMLModel",
            "_view_count": null,
            "_view_module": "@jupyter-widgets/controls",
            "_view_module_version": "1.5.0",
            "_view_name": "HTMLView",
            "description": "",
            "description_tooltip": null,
            "layout": "IPY_MODEL_00b2fe97ef02495a8a2c154aba2a0290",
            "placeholder": "​",
            "style": "IPY_MODEL_35e08bab23644d59b41bd161be7a041f",
            "value": " 814M/814M [00:06&lt;00:00, 172MB/s]"
          }
        },
        "ae0c77a3dfd146f1bc056b426c0f9b7d": {
          "model_module": "@jupyter-widgets/controls",
          "model_module_version": "1.5.0",
          "model_name": "HTMLModel",
          "state": {
            "_dom_classes": [],
            "_model_module": "@jupyter-widgets/controls",
            "_model_module_version": "1.5.0",
            "_model_name": "HTMLModel",
            "_view_count": null,
            "_view_module": "@jupyter-widgets/controls",
            "_view_module_version": "1.5.0",
            "_view_name": "HTMLView",
            "description": "",
            "description_tooltip": null,
            "layout": "IPY_MODEL_6e818409293c4d23a9ed85edf8ce7585",
            "placeholder": "​",
            "style": "IPY_MODEL_14b03dec45614aab89d8cc0ce0ed8b64",
            "value": "README.md: "
          }
        },
        "af9d1e7d31ae4f6fbda36f94fdbea513": {
          "model_module": "@jupyter-widgets/base",
          "model_module_version": "1.2.0",
          "model_name": "LayoutModel",
          "state": {
            "_model_module": "@jupyter-widgets/base",
            "_model_module_version": "1.2.0",
            "_model_name": "LayoutModel",
            "_view_count": null,
            "_view_module": "@jupyter-widgets/base",
            "_view_module_version": "1.2.0",
            "_view_name": "LayoutView",
            "align_content": null,
            "align_items": null,
            "align_self": null,
            "border": null,
            "bottom": null,
            "display": null,
            "flex": null,
            "flex_flow": null,
            "grid_area": null,
            "grid_auto_columns": null,
            "grid_auto_flow": null,
            "grid_auto_rows": null,
            "grid_column": null,
            "grid_gap": null,
            "grid_row": null,
            "grid_template_areas": null,
            "grid_template_columns": null,
            "grid_template_rows": null,
            "height": null,
            "justify_content": null,
            "justify_items": null,
            "left": null,
            "margin": null,
            "max_height": null,
            "max_width": null,
            "min_height": null,
            "min_width": null,
            "object_fit": null,
            "object_position": null,
            "order": null,
            "overflow": null,
            "overflow_x": null,
            "overflow_y": null,
            "padding": null,
            "right": null,
            "top": null,
            "visibility": null,
            "width": null
          }
        },
        "b0bdfa0eefe54bad9cc7c66b56ba3f33": {
          "model_module": "@jupyter-widgets/base",
          "model_module_version": "1.2.0",
          "model_name": "LayoutModel",
          "state": {
            "_model_module": "@jupyter-widgets/base",
            "_model_module_version": "1.2.0",
            "_model_name": "LayoutModel",
            "_view_count": null,
            "_view_module": "@jupyter-widgets/base",
            "_view_module_version": "1.2.0",
            "_view_name": "LayoutView",
            "align_content": null,
            "align_items": null,
            "align_self": null,
            "border": null,
            "bottom": null,
            "display": null,
            "flex": null,
            "flex_flow": null,
            "grid_area": null,
            "grid_auto_columns": null,
            "grid_auto_flow": null,
            "grid_auto_rows": null,
            "grid_column": null,
            "grid_gap": null,
            "grid_row": null,
            "grid_template_areas": null,
            "grid_template_columns": null,
            "grid_template_rows": null,
            "height": null,
            "justify_content": null,
            "justify_items": null,
            "left": null,
            "margin": null,
            "max_height": null,
            "max_width": null,
            "min_height": null,
            "min_width": null,
            "object_fit": null,
            "object_position": null,
            "order": null,
            "overflow": null,
            "overflow_x": null,
            "overflow_y": null,
            "padding": null,
            "right": null,
            "top": null,
            "visibility": null,
            "width": null
          }
        },
        "b95df890ff4b4f88bc7162bd7109dd84": {
          "model_module": "@jupyter-widgets/base",
          "model_module_version": "1.2.0",
          "model_name": "LayoutModel",
          "state": {
            "_model_module": "@jupyter-widgets/base",
            "_model_module_version": "1.2.0",
            "_model_name": "LayoutModel",
            "_view_count": null,
            "_view_module": "@jupyter-widgets/base",
            "_view_module_version": "1.2.0",
            "_view_name": "LayoutView",
            "align_content": null,
            "align_items": null,
            "align_self": null,
            "border": null,
            "bottom": null,
            "display": null,
            "flex": null,
            "flex_flow": null,
            "grid_area": null,
            "grid_auto_columns": null,
            "grid_auto_flow": null,
            "grid_auto_rows": null,
            "grid_column": null,
            "grid_gap": null,
            "grid_row": null,
            "grid_template_areas": null,
            "grid_template_columns": null,
            "grid_template_rows": null,
            "height": null,
            "justify_content": null,
            "justify_items": null,
            "left": null,
            "margin": null,
            "max_height": null,
            "max_width": null,
            "min_height": null,
            "min_width": null,
            "object_fit": null,
            "object_position": null,
            "order": null,
            "overflow": null,
            "overflow_x": null,
            "overflow_y": null,
            "padding": null,
            "right": null,
            "top": null,
            "visibility": null,
            "width": null
          }
        },
        "ba0b48e6f48d4172871dcf90963cef37": {
          "model_module": "@jupyter-widgets/controls",
          "model_module_version": "1.5.0",
          "model_name": "DescriptionStyleModel",
          "state": {
            "_model_module": "@jupyter-widgets/controls",
            "_model_module_version": "1.5.0",
            "_model_name": "DescriptionStyleModel",
            "_view_count": null,
            "_view_module": "@jupyter-widgets/base",
            "_view_module_version": "1.2.0",
            "_view_name": "StyleView",
            "description_width": ""
          }
        },
        "bacc6c644a4845879c38c3d3e1892104": {
          "model_module": "@jupyter-widgets/base",
          "model_module_version": "1.2.0",
          "model_name": "LayoutModel",
          "state": {
            "_model_module": "@jupyter-widgets/base",
            "_model_module_version": "1.2.0",
            "_model_name": "LayoutModel",
            "_view_count": null,
            "_view_module": "@jupyter-widgets/base",
            "_view_module_version": "1.2.0",
            "_view_name": "LayoutView",
            "align_content": null,
            "align_items": null,
            "align_self": null,
            "border": null,
            "bottom": null,
            "display": null,
            "flex": null,
            "flex_flow": null,
            "grid_area": null,
            "grid_auto_columns": null,
            "grid_auto_flow": null,
            "grid_auto_rows": null,
            "grid_column": null,
            "grid_gap": null,
            "grid_row": null,
            "grid_template_areas": null,
            "grid_template_columns": null,
            "grid_template_rows": null,
            "height": null,
            "justify_content": null,
            "justify_items": null,
            "left": null,
            "margin": null,
            "max_height": null,
            "max_width": null,
            "min_height": null,
            "min_width": null,
            "object_fit": null,
            "object_position": null,
            "order": null,
            "overflow": null,
            "overflow_x": null,
            "overflow_y": null,
            "padding": null,
            "right": null,
            "top": null,
            "visibility": null,
            "width": null
          }
        },
        "c8d986c8177f434c97e75707cd07d039": {
          "model_module": "@jupyter-widgets/base",
          "model_module_version": "1.2.0",
          "model_name": "LayoutModel",
          "state": {
            "_model_module": "@jupyter-widgets/base",
            "_model_module_version": "1.2.0",
            "_model_name": "LayoutModel",
            "_view_count": null,
            "_view_module": "@jupyter-widgets/base",
            "_view_module_version": "1.2.0",
            "_view_name": "LayoutView",
            "align_content": null,
            "align_items": null,
            "align_self": null,
            "border": null,
            "bottom": null,
            "display": null,
            "flex": null,
            "flex_flow": null,
            "grid_area": null,
            "grid_auto_columns": null,
            "grid_auto_flow": null,
            "grid_auto_rows": null,
            "grid_column": null,
            "grid_gap": null,
            "grid_row": null,
            "grid_template_areas": null,
            "grid_template_columns": null,
            "grid_template_rows": null,
            "height": null,
            "justify_content": null,
            "justify_items": null,
            "left": null,
            "margin": null,
            "max_height": null,
            "max_width": null,
            "min_height": null,
            "min_width": null,
            "object_fit": null,
            "object_position": null,
            "order": null,
            "overflow": null,
            "overflow_x": null,
            "overflow_y": null,
            "padding": null,
            "right": null,
            "top": null,
            "visibility": null,
            "width": null
          }
        },
        "cba59c509f0c4dfe96ccd72ba6921e51": {
          "model_module": "@jupyter-widgets/controls",
          "model_module_version": "1.5.0",
          "model_name": "HTMLModel",
          "state": {
            "_dom_classes": [],
            "_model_module": "@jupyter-widgets/controls",
            "_model_module_version": "1.5.0",
            "_model_name": "HTMLModel",
            "_view_count": null,
            "_view_module": "@jupyter-widgets/controls",
            "_view_module_version": "1.5.0",
            "_view_name": "HTMLView",
            "description": "",
            "description_tooltip": null,
            "layout": "IPY_MODEL_c8d986c8177f434c97e75707cd07d039",
            "placeholder": "​",
            "style": "IPY_MODEL_ba0b48e6f48d4172871dcf90963cef37",
            "value": " 1.52k/? [00:00&lt;00:00, 23.0kB/s]"
          }
        },
        "d9f4a0d0d7934a78bf18a4475882e673": {
          "model_module": "@jupyter-widgets/base",
          "model_module_version": "1.2.0",
          "model_name": "LayoutModel",
          "state": {
            "_model_module": "@jupyter-widgets/base",
            "_model_module_version": "1.2.0",
            "_model_name": "LayoutModel",
            "_view_count": null,
            "_view_module": "@jupyter-widgets/base",
            "_view_module_version": "1.2.0",
            "_view_name": "LayoutView",
            "align_content": null,
            "align_items": null,
            "align_self": null,
            "border": null,
            "bottom": null,
            "display": null,
            "flex": null,
            "flex_flow": null,
            "grid_area": null,
            "grid_auto_columns": null,
            "grid_auto_flow": null,
            "grid_auto_rows": null,
            "grid_column": null,
            "grid_gap": null,
            "grid_row": null,
            "grid_template_areas": null,
            "grid_template_columns": null,
            "grid_template_rows": null,
            "height": null,
            "justify_content": null,
            "justify_items": null,
            "left": null,
            "margin": null,
            "max_height": null,
            "max_width": null,
            "min_height": null,
            "min_width": null,
            "object_fit": null,
            "object_position": null,
            "order": null,
            "overflow": null,
            "overflow_x": null,
            "overflow_y": null,
            "padding": null,
            "right": null,
            "top": null,
            "visibility": null,
            "width": null
          }
        },
        "dce76e3e9a42453b821138b41adff60f": {
          "model_module": "@jupyter-widgets/controls",
          "model_module_version": "1.5.0",
          "model_name": "FloatProgressModel",
          "state": {
            "_dom_classes": [],
            "_model_module": "@jupyter-widgets/controls",
            "_model_module_version": "1.5.0",
            "_model_name": "FloatProgressModel",
            "_view_count": null,
            "_view_module": "@jupyter-widgets/controls",
            "_view_module_version": "1.5.0",
            "_view_name": "ProgressView",
            "bar_style": "success",
            "description": "",
            "description_tooltip": null,
            "layout": "IPY_MODEL_2d4231e8ce55435e878fbafb18d80aae",
            "max": 3,
            "min": 0,
            "orientation": "horizontal",
            "style": "IPY_MODEL_74284464a7dc46b0abc274e6262bee68",
            "value": 3
          }
        },
        "de4a2402418c4dbbbac16a43e1d8b68b": {
          "model_module": "@jupyter-widgets/controls",
          "model_module_version": "1.5.0",
          "model_name": "FloatProgressModel",
          "state": {
            "_dom_classes": [],
            "_model_module": "@jupyter-widgets/controls",
            "_model_module_version": "1.5.0",
            "_model_name": "FloatProgressModel",
            "_view_count": null,
            "_view_module": "@jupyter-widgets/controls",
            "_view_module_version": "1.5.0",
            "_view_name": "ProgressView",
            "bar_style": "success",
            "description": "",
            "description_tooltip": null,
            "layout": "IPY_MODEL_bacc6c644a4845879c38c3d3e1892104",
            "max": 814370168,
            "min": 0,
            "orientation": "horizontal",
            "style": "IPY_MODEL_62a0d82b2f0c408784cd9e7e8a5b2fd3",
            "value": 814370168
          }
        },
        "edcffdd5a0be4c95bee8539867086c34": {
          "model_module": "@jupyter-widgets/controls",
          "model_module_version": "1.5.0",
          "model_name": "DescriptionStyleModel",
          "state": {
            "_model_module": "@jupyter-widgets/controls",
            "_model_module_version": "1.5.0",
            "_model_name": "DescriptionStyleModel",
            "_view_count": null,
            "_view_module": "@jupyter-widgets/base",
            "_view_module_version": "1.2.0",
            "_view_name": "StyleView",
            "description_width": ""
          }
        },
        "f34ccb4f84864e1e9e903caefe0be612": {
          "model_module": "@jupyter-widgets/controls",
          "model_module_version": "1.5.0",
          "model_name": "HBoxModel",
          "state": {
            "_dom_classes": [],
            "_model_module": "@jupyter-widgets/controls",
            "_model_module_version": "1.5.0",
            "_model_name": "HBoxModel",
            "_view_count": null,
            "_view_module": "@jupyter-widgets/controls",
            "_view_module_version": "1.5.0",
            "_view_name": "HBoxView",
            "box_style": "",
            "children": [
              "IPY_MODEL_439f54fc0c7b42e880b1fae61e52a484",
              "IPY_MODEL_de4a2402418c4dbbbac16a43e1d8b68b",
              "IPY_MODEL_a8e0e814740848bea93f62a9e633f981"
            ],
            "layout": "IPY_MODEL_af9d1e7d31ae4f6fbda36f94fdbea513"
          }
        },
        "f5616d5538994cbcadc2cb18c7229677": {
          "model_module": "@jupyter-widgets/base",
          "model_module_version": "1.2.0",
          "model_name": "LayoutModel",
          "state": {
            "_model_module": "@jupyter-widgets/base",
            "_model_module_version": "1.2.0",
            "_model_name": "LayoutModel",
            "_view_count": null,
            "_view_module": "@jupyter-widgets/base",
            "_view_module_version": "1.2.0",
            "_view_name": "LayoutView",
            "align_content": null,
            "align_items": null,
            "align_self": null,
            "border": null,
            "bottom": null,
            "display": null,
            "flex": null,
            "flex_flow": null,
            "grid_area": null,
            "grid_auto_columns": null,
            "grid_auto_flow": null,
            "grid_auto_rows": null,
            "grid_column": null,
            "grid_gap": null,
            "grid_row": null,
            "grid_template_areas": null,
            "grid_template_columns": null,
            "grid_template_rows": null,
            "height": null,
            "justify_content": null,
            "justify_items": null,
            "left": null,
            "margin": null,
            "max_height": null,
            "max_width": null,
            "min_height": null,
            "min_width": null,
            "object_fit": null,
            "object_position": null,
            "order": null,
            "overflow": null,
            "overflow_x": null,
            "overflow_y": null,
            "padding": null,
            "right": null,
            "top": null,
            "visibility": null,
            "width": "20px"
          }
        }
      }
    }
  },
  "nbformat": 4,
  "nbformat_minor": 0
}
